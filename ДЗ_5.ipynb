{
  "nbformat": 4,
  "nbformat_minor": 0,
  "metadata": {
    "colab": {
      "provenance": [],
      "authorship_tag": "ABX9TyPBqtEaksuCizAjgZDtk/W0",
      "include_colab_link": true
    },
    "kernelspec": {
      "name": "python3",
      "display_name": "Python 3"
    },
    "language_info": {
      "name": "python"
    }
  },
  "cells": [
    {
      "cell_type": "markdown",
      "metadata": {
        "id": "view-in-github",
        "colab_type": "text"
      },
      "source": [
        "<a href=\"https://colab.research.google.com/github/Communist02/BIN-22-1_Mazur_Denis_ML/blob/master/%D0%94%D0%97_5.ipynb\" target=\"_parent\"><img src=\"https://colab.research.google.com/assets/colab-badge.svg\" alt=\"Open In Colab\"/></a>"
      ]
    },
    {
      "cell_type": "code",
      "source": [
        "!pip install pandas scikit-learn nltk pymorphy3"
      ],
      "metadata": {
        "colab": {
          "base_uri": "https://localhost:8080/"
        },
        "id": "3A6aLThJ5Nyh",
        "outputId": "9aa48c93-5317-4d1f-fe84-6dcd19b461e1"
      },
      "execution_count": 1,
      "outputs": [
        {
          "output_type": "stream",
          "name": "stdout",
          "text": [
            "Requirement already satisfied: pandas in /usr/local/lib/python3.11/dist-packages (2.2.2)\n",
            "Requirement already satisfied: scikit-learn in /usr/local/lib/python3.11/dist-packages (1.6.1)\n",
            "Requirement already satisfied: nltk in /usr/local/lib/python3.11/dist-packages (3.9.1)\n",
            "Collecting pymorphy3\n",
            "  Downloading pymorphy3-2.0.3-py3-none-any.whl.metadata (1.9 kB)\n",
            "Requirement already satisfied: numpy>=1.23.2 in /usr/local/lib/python3.11/dist-packages (from pandas) (2.0.2)\n",
            "Requirement already satisfied: python-dateutil>=2.8.2 in /usr/local/lib/python3.11/dist-packages (from pandas) (2.9.0.post0)\n",
            "Requirement already satisfied: pytz>=2020.1 in /usr/local/lib/python3.11/dist-packages (from pandas) (2025.2)\n",
            "Requirement already satisfied: tzdata>=2022.7 in /usr/local/lib/python3.11/dist-packages (from pandas) (2025.2)\n",
            "Requirement already satisfied: scipy>=1.6.0 in /usr/local/lib/python3.11/dist-packages (from scikit-learn) (1.15.2)\n",
            "Requirement already satisfied: joblib>=1.2.0 in /usr/local/lib/python3.11/dist-packages (from scikit-learn) (1.4.2)\n",
            "Requirement already satisfied: threadpoolctl>=3.1.0 in /usr/local/lib/python3.11/dist-packages (from scikit-learn) (3.6.0)\n",
            "Requirement already satisfied: click in /usr/local/lib/python3.11/dist-packages (from nltk) (8.1.8)\n",
            "Requirement already satisfied: regex>=2021.8.3 in /usr/local/lib/python3.11/dist-packages (from nltk) (2024.11.6)\n",
            "Requirement already satisfied: tqdm in /usr/local/lib/python3.11/dist-packages (from nltk) (4.67.1)\n",
            "Collecting dawg2-python>=0.8.0 (from pymorphy3)\n",
            "  Downloading dawg2_python-0.9.0-py3-none-any.whl.metadata (7.5 kB)\n",
            "Collecting pymorphy3-dicts-ru (from pymorphy3)\n",
            "  Downloading pymorphy3_dicts_ru-2.4.417150.4580142-py2.py3-none-any.whl.metadata (2.0 kB)\n",
            "Requirement already satisfied: six>=1.5 in /usr/local/lib/python3.11/dist-packages (from python-dateutil>=2.8.2->pandas) (1.17.0)\n",
            "Downloading pymorphy3-2.0.3-py3-none-any.whl (53 kB)\n",
            "\u001b[2K   \u001b[90m━━━━━━━━━━━━━━━━━━━━━━━━━━━━━━━━━━━━━━━━\u001b[0m \u001b[32m53.8/53.8 kB\u001b[0m \u001b[31m2.4 MB/s\u001b[0m eta \u001b[36m0:00:00\u001b[0m\n",
            "\u001b[?25hDownloading dawg2_python-0.9.0-py3-none-any.whl (9.3 kB)\n",
            "Downloading pymorphy3_dicts_ru-2.4.417150.4580142-py2.py3-none-any.whl (8.4 MB)\n",
            "\u001b[2K   \u001b[90m━━━━━━━━━━━━━━━━━━━━━━━━━━━━━━━━━━━━━━━━\u001b[0m \u001b[32m8.4/8.4 MB\u001b[0m \u001b[31m43.4 MB/s\u001b[0m eta \u001b[36m0:00:00\u001b[0m\n",
            "\u001b[?25hInstalling collected packages: pymorphy3-dicts-ru, dawg2-python, pymorphy3\n",
            "Successfully installed dawg2-python-0.9.0 pymorphy3-2.0.3 pymorphy3-dicts-ru-2.4.417150.4580142\n"
          ]
        }
      ]
    },
    {
      "cell_type": "code",
      "execution_count": 2,
      "metadata": {
        "colab": {
          "base_uri": "https://localhost:8080/"
        },
        "id": "X8HZ6Klk4glE",
        "outputId": "c8cf03bf-ca8d-44af-9c21-558244d88622"
      },
      "outputs": [
        {
          "output_type": "stream",
          "name": "stderr",
          "text": [
            "[nltk_data] Downloading package punkt_tab to /root/nltk_data...\n",
            "[nltk_data]   Unzipping tokenizers/punkt_tab.zip.\n",
            "[nltk_data] Downloading package wordnet to /root/nltk_data...\n",
            "[nltk_data] Downloading package stopwords to /root/nltk_data...\n",
            "[nltk_data]   Unzipping corpora/stopwords.zip.\n"
          ]
        }
      ],
      "source": [
        "import nltk\n",
        "from nltk.stem import SnowballStemmer\n",
        "from nltk.tokenize import word_tokenize\n",
        "from nltk.corpus import stopwords\n",
        "from pymorphy3 import MorphAnalyzer\n",
        "import math\n",
        "\n",
        "nltk.download('punkt_tab')\n",
        "nltk.download('wordnet')\n",
        "nltk.download('stopwords')\n",
        "\n",
        "\n",
        "class Processing:\n",
        "    def tokenize(self, text: str) -> list[str]:\n",
        "        return word_tokenize(text)\n",
        "\n",
        "    def lematize(self, tokens: list[str]) -> list[str]:\n",
        "        morph3 = MorphAnalyzer()\n",
        "        lemmatized_words = [morph3.parse(\n",
        "            word)[0].normal_form for word in tokens]\n",
        "        return lemmatized_words\n",
        "\n",
        "    def stemming(self, tokens: list[str]) -> list[str]:\n",
        "        stemmer = SnowballStemmer(\"english\")\n",
        "        lemmatized_words = [stemmer.stem(word) for word in tokens]\n",
        "        return lemmatized_words\n",
        "\n",
        "    def vectorize(self, tokens: list[str]) -> list[int]:\n",
        "        dict_vectors = {}\n",
        "        result = []\n",
        "        for word in tokens:\n",
        "            if word in dict_vectors.keys():\n",
        "                result.append(dict_vectors[word])\n",
        "            else:\n",
        "                dict_vectors[word] = len(dict_vectors)\n",
        "                result.append(dict_vectors[word])\n",
        "        return result\n",
        "\n",
        "    def vectorize_dict(self, tokens: list[str]) -> list[int]:\n",
        "        dict_vectors = {}\n",
        "        for word in tokens:\n",
        "            if word not in dict_vectors.keys():\n",
        "                dict_vectors[word] = len(dict_vectors)\n",
        "        return dict_vectors\n",
        "\n",
        "    def delete_stop_words(self, tokens: list[str]) -> list[int]:\n",
        "        stop_words = set(stopwords.words('english')).union(\n",
        "            ['.', ',', ':', '?', '!', '(', ')'])\n",
        "        return [word for word in tokens if word not in stop_words]\n",
        "\n",
        "    def bag_of_words(self, tokens: list[str]) -> dict[str]:\n",
        "        dict_words = {}\n",
        "        for word in tokens:\n",
        "            dict_words[word] = dict_words.setdefault(word, 0) + 1\n",
        "        return dict_words\n",
        "\n",
        "    def tf(self, tokens: list[str]) -> dict[str]:\n",
        "        dict_words = self.bag_of_words(tokens)\n",
        "        for word in dict_words:\n",
        "            dict_words[word] /= len(tokens)\n",
        "        return dict_words\n",
        "\n",
        "    def idf(self, texts: list[list[str]]) -> dict[str]:\n",
        "        dict_words = {}\n",
        "        big_text = []\n",
        "        for text in texts:\n",
        "            big_text += list(set(text))\n",
        "        for word in set(big_text):\n",
        "            dict_words[word] = math.log(len(texts) / big_text.count(word))\n",
        "        return dict_words\n",
        "\n",
        "    def tf_idf(self, texts: list[list[str]], indexText: int) -> dict[str]:\n",
        "        tf = self.tf(texts[indexText])\n",
        "        idf = self.idf(texts)\n",
        "        dict_words = {}\n",
        "        for word in tf:\n",
        "            dict_words[word] = tf[word] * idf[word]\n",
        "        return dict_words"
      ]
    },
    {
      "cell_type": "code",
      "source": [
        "# The AG News Corpus is a popular dataset commonly used for text classification tasks in Natural Language Processing (NLP). It consists of news articles collected from the AG's corpus of news articles on the web, categorized into four classes: World, Sports, Business, and Science/Technology. Each article is accompanied by a title and a short description, making it suitable for tasks like topic classification and sentiment analysis. With its diverse range of topics and well-labeled categories, the AG News Corpus serves as a valuable resource for training and evaluating machine learning models in various NLP applications.\n",
        "\n",
        "# Description:\n",
        "\n",
        "# Dataset: AG News Corpus\n",
        "# Source: AG's corpus of news articles on the web.\n",
        "# Content: News articles categorized into World, Sports, Business, and Science/Technology.\n",
        "# Labels: Four class labels representing different news categories.\n",
        "# Scope: Covers a broad range of current events and topics.\n",
        "# Size: Typically contains thousands of articles.\n",
        "# Language: Primarily in English."
      ],
      "metadata": {
        "id": "fCTWcs-14t0m"
      },
      "execution_count": 3,
      "outputs": []
    },
    {
      "cell_type": "code",
      "source": [
        "import pandas as pd\n",
        "from sklearn.model_selection import train_test_split\n",
        "\n",
        "df = pd.read_csv('train.csv')\n",
        "df = df.head(10000)\n",
        "pc = Processing()\n",
        "\n",
        "y = df['Class Index']\n",
        "x = df.copy().drop('Class Index', axis=1)"
      ],
      "metadata": {
        "id": "tGd-IsgD41DA"
      },
      "execution_count": 15,
      "outputs": []
    },
    {
      "cell_type": "code",
      "source": [
        "df"
      ],
      "metadata": {
        "id": "B4IBGwj054Zq",
        "colab": {
          "base_uri": "https://localhost:8080/",
          "height": 424
        },
        "outputId": "71ffda9d-2ff2-4e4b-99fa-441bb54692fc"
      },
      "execution_count": 16,
      "outputs": [
        {
          "output_type": "execute_result",
          "data": {
            "text/plain": [
              "      Class Index                                              Title  \\\n",
              "0               3  Wall St. Bears Claw Back Into the Black (Reuters)   \n",
              "1               3  Carlyle Looks Toward Commercial Aerospace (Reu...   \n",
              "2               3    Oil and Economy Cloud Stocks' Outlook (Reuters)   \n",
              "3               3  Iraq Halts Oil Exports from Main Southern Pipe...   \n",
              "4               3  Oil prices soar to all-time record, posing new...   \n",
              "...           ...                                                ...   \n",
              "9995            4  Winamp flaw: Digital attacks use skins for cam...   \n",
              "9996            4                     BMC adds PeopleSoft management   \n",
              "9997            3                    CAO chief faces Singapore probe   \n",
              "9998            3              A Microsoft deal gets full EU inquiry   \n",
              "9999            4                       Feds Bust File-Sharing Sites   \n",
              "\n",
              "                                            Description  \n",
              "0     Reuters - Short-sellers, Wall Street's dwindli...  \n",
              "1     Reuters - Private investment firm Carlyle Grou...  \n",
              "2     Reuters - Soaring crude prices plus worries\\ab...  \n",
              "3     Reuters - Authorities have halted oil export\\f...  \n",
              "4     AFP - Tearaway world oil prices, toppling reco...  \n",
              "...                                                 ...  \n",
              "9995  Users of the music player should watch out for...  \n",
              "9996  BMC Software has released a new version of Pat...  \n",
              "9997  The chief of Beijing-backed China Aviation Oil...  \n",
              "9998  BRUSSELS The European Commission has opened an...  \n",
              "9999  Operation Digital Gridlock targets peer-to-pee...  \n",
              "\n",
              "[10000 rows x 3 columns]"
            ],
            "text/html": [
              "\n",
              "  <div id=\"df-76756df4-5631-4a19-98f2-da60f7120f8f\" class=\"colab-df-container\">\n",
              "    <div>\n",
              "<style scoped>\n",
              "    .dataframe tbody tr th:only-of-type {\n",
              "        vertical-align: middle;\n",
              "    }\n",
              "\n",
              "    .dataframe tbody tr th {\n",
              "        vertical-align: top;\n",
              "    }\n",
              "\n",
              "    .dataframe thead th {\n",
              "        text-align: right;\n",
              "    }\n",
              "</style>\n",
              "<table border=\"1\" class=\"dataframe\">\n",
              "  <thead>\n",
              "    <tr style=\"text-align: right;\">\n",
              "      <th></th>\n",
              "      <th>Class Index</th>\n",
              "      <th>Title</th>\n",
              "      <th>Description</th>\n",
              "    </tr>\n",
              "  </thead>\n",
              "  <tbody>\n",
              "    <tr>\n",
              "      <th>0</th>\n",
              "      <td>3</td>\n",
              "      <td>Wall St. Bears Claw Back Into the Black (Reuters)</td>\n",
              "      <td>Reuters - Short-sellers, Wall Street's dwindli...</td>\n",
              "    </tr>\n",
              "    <tr>\n",
              "      <th>1</th>\n",
              "      <td>3</td>\n",
              "      <td>Carlyle Looks Toward Commercial Aerospace (Reu...</td>\n",
              "      <td>Reuters - Private investment firm Carlyle Grou...</td>\n",
              "    </tr>\n",
              "    <tr>\n",
              "      <th>2</th>\n",
              "      <td>3</td>\n",
              "      <td>Oil and Economy Cloud Stocks' Outlook (Reuters)</td>\n",
              "      <td>Reuters - Soaring crude prices plus worries\\ab...</td>\n",
              "    </tr>\n",
              "    <tr>\n",
              "      <th>3</th>\n",
              "      <td>3</td>\n",
              "      <td>Iraq Halts Oil Exports from Main Southern Pipe...</td>\n",
              "      <td>Reuters - Authorities have halted oil export\\f...</td>\n",
              "    </tr>\n",
              "    <tr>\n",
              "      <th>4</th>\n",
              "      <td>3</td>\n",
              "      <td>Oil prices soar to all-time record, posing new...</td>\n",
              "      <td>AFP - Tearaway world oil prices, toppling reco...</td>\n",
              "    </tr>\n",
              "    <tr>\n",
              "      <th>...</th>\n",
              "      <td>...</td>\n",
              "      <td>...</td>\n",
              "      <td>...</td>\n",
              "    </tr>\n",
              "    <tr>\n",
              "      <th>9995</th>\n",
              "      <td>4</td>\n",
              "      <td>Winamp flaw: Digital attacks use skins for cam...</td>\n",
              "      <td>Users of the music player should watch out for...</td>\n",
              "    </tr>\n",
              "    <tr>\n",
              "      <th>9996</th>\n",
              "      <td>4</td>\n",
              "      <td>BMC adds PeopleSoft management</td>\n",
              "      <td>BMC Software has released a new version of Pat...</td>\n",
              "    </tr>\n",
              "    <tr>\n",
              "      <th>9997</th>\n",
              "      <td>3</td>\n",
              "      <td>CAO chief faces Singapore probe</td>\n",
              "      <td>The chief of Beijing-backed China Aviation Oil...</td>\n",
              "    </tr>\n",
              "    <tr>\n",
              "      <th>9998</th>\n",
              "      <td>3</td>\n",
              "      <td>A Microsoft deal gets full EU inquiry</td>\n",
              "      <td>BRUSSELS The European Commission has opened an...</td>\n",
              "    </tr>\n",
              "    <tr>\n",
              "      <th>9999</th>\n",
              "      <td>4</td>\n",
              "      <td>Feds Bust File-Sharing Sites</td>\n",
              "      <td>Operation Digital Gridlock targets peer-to-pee...</td>\n",
              "    </tr>\n",
              "  </tbody>\n",
              "</table>\n",
              "<p>10000 rows × 3 columns</p>\n",
              "</div>\n",
              "    <div class=\"colab-df-buttons\">\n",
              "\n",
              "  <div class=\"colab-df-container\">\n",
              "    <button class=\"colab-df-convert\" onclick=\"convertToInteractive('df-76756df4-5631-4a19-98f2-da60f7120f8f')\"\n",
              "            title=\"Convert this dataframe to an interactive table.\"\n",
              "            style=\"display:none;\">\n",
              "\n",
              "  <svg xmlns=\"http://www.w3.org/2000/svg\" height=\"24px\" viewBox=\"0 -960 960 960\">\n",
              "    <path d=\"M120-120v-720h720v720H120Zm60-500h600v-160H180v160Zm220 220h160v-160H400v160Zm0 220h160v-160H400v160ZM180-400h160v-160H180v160Zm440 0h160v-160H620v160ZM180-180h160v-160H180v160Zm440 0h160v-160H620v160Z\"/>\n",
              "  </svg>\n",
              "    </button>\n",
              "\n",
              "  <style>\n",
              "    .colab-df-container {\n",
              "      display:flex;\n",
              "      gap: 12px;\n",
              "    }\n",
              "\n",
              "    .colab-df-convert {\n",
              "      background-color: #E8F0FE;\n",
              "      border: none;\n",
              "      border-radius: 50%;\n",
              "      cursor: pointer;\n",
              "      display: none;\n",
              "      fill: #1967D2;\n",
              "      height: 32px;\n",
              "      padding: 0 0 0 0;\n",
              "      width: 32px;\n",
              "    }\n",
              "\n",
              "    .colab-df-convert:hover {\n",
              "      background-color: #E2EBFA;\n",
              "      box-shadow: 0px 1px 2px rgba(60, 64, 67, 0.3), 0px 1px 3px 1px rgba(60, 64, 67, 0.15);\n",
              "      fill: #174EA6;\n",
              "    }\n",
              "\n",
              "    .colab-df-buttons div {\n",
              "      margin-bottom: 4px;\n",
              "    }\n",
              "\n",
              "    [theme=dark] .colab-df-convert {\n",
              "      background-color: #3B4455;\n",
              "      fill: #D2E3FC;\n",
              "    }\n",
              "\n",
              "    [theme=dark] .colab-df-convert:hover {\n",
              "      background-color: #434B5C;\n",
              "      box-shadow: 0px 1px 3px 1px rgba(0, 0, 0, 0.15);\n",
              "      filter: drop-shadow(0px 1px 2px rgba(0, 0, 0, 0.3));\n",
              "      fill: #FFFFFF;\n",
              "    }\n",
              "  </style>\n",
              "\n",
              "    <script>\n",
              "      const buttonEl =\n",
              "        document.querySelector('#df-76756df4-5631-4a19-98f2-da60f7120f8f button.colab-df-convert');\n",
              "      buttonEl.style.display =\n",
              "        google.colab.kernel.accessAllowed ? 'block' : 'none';\n",
              "\n",
              "      async function convertToInteractive(key) {\n",
              "        const element = document.querySelector('#df-76756df4-5631-4a19-98f2-da60f7120f8f');\n",
              "        const dataTable =\n",
              "          await google.colab.kernel.invokeFunction('convertToInteractive',\n",
              "                                                    [key], {});\n",
              "        if (!dataTable) return;\n",
              "\n",
              "        const docLinkHtml = 'Like what you see? Visit the ' +\n",
              "          '<a target=\"_blank\" href=https://colab.research.google.com/notebooks/data_table.ipynb>data table notebook</a>'\n",
              "          + ' to learn more about interactive tables.';\n",
              "        element.innerHTML = '';\n",
              "        dataTable['output_type'] = 'display_data';\n",
              "        await google.colab.output.renderOutput(dataTable, element);\n",
              "        const docLink = document.createElement('div');\n",
              "        docLink.innerHTML = docLinkHtml;\n",
              "        element.appendChild(docLink);\n",
              "      }\n",
              "    </script>\n",
              "  </div>\n",
              "\n",
              "\n",
              "    <div id=\"df-e5bd6e00-06d7-4aa2-8445-c6d17d9693a4\">\n",
              "      <button class=\"colab-df-quickchart\" onclick=\"quickchart('df-e5bd6e00-06d7-4aa2-8445-c6d17d9693a4')\"\n",
              "                title=\"Suggest charts\"\n",
              "                style=\"display:none;\">\n",
              "\n",
              "<svg xmlns=\"http://www.w3.org/2000/svg\" height=\"24px\"viewBox=\"0 0 24 24\"\n",
              "     width=\"24px\">\n",
              "    <g>\n",
              "        <path d=\"M19 3H5c-1.1 0-2 .9-2 2v14c0 1.1.9 2 2 2h14c1.1 0 2-.9 2-2V5c0-1.1-.9-2-2-2zM9 17H7v-7h2v7zm4 0h-2V7h2v10zm4 0h-2v-4h2v4z\"/>\n",
              "    </g>\n",
              "</svg>\n",
              "      </button>\n",
              "\n",
              "<style>\n",
              "  .colab-df-quickchart {\n",
              "      --bg-color: #E8F0FE;\n",
              "      --fill-color: #1967D2;\n",
              "      --hover-bg-color: #E2EBFA;\n",
              "      --hover-fill-color: #174EA6;\n",
              "      --disabled-fill-color: #AAA;\n",
              "      --disabled-bg-color: #DDD;\n",
              "  }\n",
              "\n",
              "  [theme=dark] .colab-df-quickchart {\n",
              "      --bg-color: #3B4455;\n",
              "      --fill-color: #D2E3FC;\n",
              "      --hover-bg-color: #434B5C;\n",
              "      --hover-fill-color: #FFFFFF;\n",
              "      --disabled-bg-color: #3B4455;\n",
              "      --disabled-fill-color: #666;\n",
              "  }\n",
              "\n",
              "  .colab-df-quickchart {\n",
              "    background-color: var(--bg-color);\n",
              "    border: none;\n",
              "    border-radius: 50%;\n",
              "    cursor: pointer;\n",
              "    display: none;\n",
              "    fill: var(--fill-color);\n",
              "    height: 32px;\n",
              "    padding: 0;\n",
              "    width: 32px;\n",
              "  }\n",
              "\n",
              "  .colab-df-quickchart:hover {\n",
              "    background-color: var(--hover-bg-color);\n",
              "    box-shadow: 0 1px 2px rgba(60, 64, 67, 0.3), 0 1px 3px 1px rgba(60, 64, 67, 0.15);\n",
              "    fill: var(--button-hover-fill-color);\n",
              "  }\n",
              "\n",
              "  .colab-df-quickchart-complete:disabled,\n",
              "  .colab-df-quickchart-complete:disabled:hover {\n",
              "    background-color: var(--disabled-bg-color);\n",
              "    fill: var(--disabled-fill-color);\n",
              "    box-shadow: none;\n",
              "  }\n",
              "\n",
              "  .colab-df-spinner {\n",
              "    border: 2px solid var(--fill-color);\n",
              "    border-color: transparent;\n",
              "    border-bottom-color: var(--fill-color);\n",
              "    animation:\n",
              "      spin 1s steps(1) infinite;\n",
              "  }\n",
              "\n",
              "  @keyframes spin {\n",
              "    0% {\n",
              "      border-color: transparent;\n",
              "      border-bottom-color: var(--fill-color);\n",
              "      border-left-color: var(--fill-color);\n",
              "    }\n",
              "    20% {\n",
              "      border-color: transparent;\n",
              "      border-left-color: var(--fill-color);\n",
              "      border-top-color: var(--fill-color);\n",
              "    }\n",
              "    30% {\n",
              "      border-color: transparent;\n",
              "      border-left-color: var(--fill-color);\n",
              "      border-top-color: var(--fill-color);\n",
              "      border-right-color: var(--fill-color);\n",
              "    }\n",
              "    40% {\n",
              "      border-color: transparent;\n",
              "      border-right-color: var(--fill-color);\n",
              "      border-top-color: var(--fill-color);\n",
              "    }\n",
              "    60% {\n",
              "      border-color: transparent;\n",
              "      border-right-color: var(--fill-color);\n",
              "    }\n",
              "    80% {\n",
              "      border-color: transparent;\n",
              "      border-right-color: var(--fill-color);\n",
              "      border-bottom-color: var(--fill-color);\n",
              "    }\n",
              "    90% {\n",
              "      border-color: transparent;\n",
              "      border-bottom-color: var(--fill-color);\n",
              "    }\n",
              "  }\n",
              "</style>\n",
              "\n",
              "      <script>\n",
              "        async function quickchart(key) {\n",
              "          const quickchartButtonEl =\n",
              "            document.querySelector('#' + key + ' button');\n",
              "          quickchartButtonEl.disabled = true;  // To prevent multiple clicks.\n",
              "          quickchartButtonEl.classList.add('colab-df-spinner');\n",
              "          try {\n",
              "            const charts = await google.colab.kernel.invokeFunction(\n",
              "                'suggestCharts', [key], {});\n",
              "          } catch (error) {\n",
              "            console.error('Error during call to suggestCharts:', error);\n",
              "          }\n",
              "          quickchartButtonEl.classList.remove('colab-df-spinner');\n",
              "          quickchartButtonEl.classList.add('colab-df-quickchart-complete');\n",
              "        }\n",
              "        (() => {\n",
              "          let quickchartButtonEl =\n",
              "            document.querySelector('#df-e5bd6e00-06d7-4aa2-8445-c6d17d9693a4 button');\n",
              "          quickchartButtonEl.style.display =\n",
              "            google.colab.kernel.accessAllowed ? 'block' : 'none';\n",
              "        })();\n",
              "      </script>\n",
              "    </div>\n",
              "    </div>\n",
              "  </div>\n"
            ],
            "application/vnd.google.colaboratory.intrinsic+json": {
              "type": "dataframe",
              "variable_name": "df",
              "summary": "{\n  \"name\": \"df\",\n  \"rows\": 10000,\n  \"fields\": [\n    {\n      \"column\": \"Class Index\",\n      \"properties\": {\n        \"dtype\": \"number\",\n        \"std\": 1,\n        \"min\": 1,\n        \"max\": 4,\n        \"num_unique_values\": 4,\n        \"samples\": [\n          4,\n          1,\n          3\n        ],\n        \"semantic_type\": \"\",\n        \"description\": \"\"\n      }\n    },\n    {\n      \"column\": \"Title\",\n      \"properties\": {\n        \"dtype\": \"string\",\n        \"num_unique_values\": 9519,\n        \"samples\": [\n          \"Phelps, Thorpe Advance in 200 Freestyle (AP)\",\n          \"Portugal Suffers Humiliating Athens Exit in Soccer\",\n          \"U.S. Sprinters Take Aim at 200M Semifinals\"\n        ],\n        \"semantic_type\": \"\",\n        \"description\": \"\"\n      }\n    },\n    {\n      \"column\": \"Description\",\n      \"properties\": {\n        \"dtype\": \"string\",\n        \"num_unique_values\": 9877,\n        \"samples\": [\n          \"A Greek Olympian has been stripped of his bronze medal after testing positive for drugs, and a Russian gold medallist has also reportedly failed a test.\",\n          \"MANNHEIM, GERMANY - A military judge hearing evidence about the abuse of prisoners at Iraq #39;s Abu Ghraib prison warned the US government on Monday to speed up its investigation or risk derailing the case against at least one of the accused soldiers.\",\n          \"ATHENS, Greece -- It began with Allen Iverson -- The Answer, the captain, the leader of Team USA -- forgetting about the fractured bone in his right thumb and courageously hitting the floor against Greece in full regalia. \"\n        ],\n        \"semantic_type\": \"\",\n        \"description\": \"\"\n      }\n    }\n  ]\n}"
            }
          },
          "metadata": {},
          "execution_count": 16
        }
      ]
    },
    {
      "cell_type": "code",
      "source": [
        "import matplotlib.pyplot as plt\n",
        "\n",
        "plt.figure(figsize=(10, 6))\n",
        "df['Class Index'].value_counts().plot(kind='bar')\n",
        "plt.title('Распределение типов новостей')\n",
        "plt.xlabel('Класс')\n",
        "plt.ylabel('Количество')\n",
        "plt.xticks(rotation=45)\n",
        "plt.tight_layout()\n",
        "plt.show()"
      ],
      "metadata": {
        "colab": {
          "base_uri": "https://localhost:8080/",
          "height": 607
        },
        "id": "dpyfrAJQKyxn",
        "outputId": "31fabe2b-4f08-4a48-bee9-916ea7c3fc74"
      },
      "execution_count": 26,
      "outputs": [
        {
          "output_type": "display_data",
          "data": {
            "text/plain": [
              "<Figure size 1000x600 with 1 Axes>"
            ],
            "image/png": "[encoded data removed]"
          },
          "metadata": {}
        }
      ]
    },
    {
      "cell_type": "code",
      "source": [
        "for index, row in df.iterrows():\n",
        "    text = row['Title']\n",
        "    tokens = pc.tokenize(text)  # Токенизация\n",
        "    tokens = pc.delete_stop_words(tokens)  # Удаление стоп слов\n",
        "\n",
        "    row['Title'] = ' '.join(tokens)\n",
        "\n",
        "    text = row['Description']\n",
        "    tokens = pc.tokenize(text)  # Токенизация\n",
        "    tokens = pc.delete_stop_words(tokens)  # Удаление стоп слов\n",
        "\n",
        "    row['Description'] = ' '.join(tokens)"
      ],
      "metadata": {
        "id": "7MA5sNxl5ITF"
      },
      "execution_count": 17,
      "outputs": []
    },
    {
      "cell_type": "markdown",
      "source": [
        "Векторизация через TFIDF"
      ],
      "metadata": {
        "id": "rVWg88_2OEZM"
      }
    },
    {
      "cell_type": "code",
      "source": [
        "from sklearn.feature_extraction.text import TfidfVectorizer\n",
        "\n",
        "vectorizer = TfidfVectorizer(max_features=5000)\n",
        "X = vectorizer.fit_transform(df['Description'])"
      ],
      "metadata": {
        "id": "SdeLdDqdNB3g"
      },
      "execution_count": 35,
      "outputs": []
    },
    {
      "cell_type": "markdown",
      "source": [
        "Кластеризация с помощью Spectral Clustering"
      ],
      "metadata": {
        "id": "ZrpHKwvxOM1N"
      }
    },
    {
      "cell_type": "code",
      "source": [
        "from sklearn.preprocessing import StandardScaler\n",
        "\n",
        "# Масштабирование данных\n",
        "scaler = StandardScaler()\n",
        "X_scaled = scaler.fit_transform(X.toarray())"
      ],
      "metadata": {
        "id": "0VJ3zAIyMSaY"
      },
      "execution_count": 46,
      "outputs": []
    },
    {
      "cell_type": "code",
      "source": [
        "from sklearn.cluster import SpectralClustering"
      ],
      "metadata": {
        "id": "p70R36q-OWNM"
      },
      "execution_count": 47,
      "outputs": []
    },
    {
      "cell_type": "code",
      "source": [
        "spectral = SpectralClustering(\n",
        "    n_clusters=4,\n",
        "    affinity='nearest_neighbors',\n",
        "    n_neighbors=10,\n",
        "    random_state=42\n",
        ")\n",
        "labels = spectral.fit_predict(X_scaled)"
      ],
      "metadata": {
        "id": "y54aJIV8OR5y"
      },
      "execution_count": 59,
      "outputs": []
    },
    {
      "cell_type": "markdown",
      "source": [
        "Визуализация"
      ],
      "metadata": {
        "id": "OXZifkvGOnhk"
      }
    },
    {
      "cell_type": "code",
      "source": [
        "from sklearn.decomposition import PCA\n",
        "pca = PCA(n_components=2)\n",
        "X_pca = pca.fit_transform(X_scaled)"
      ],
      "metadata": {
        "id": "sy6oShy9OkhK"
      },
      "execution_count": 60,
      "outputs": []
    },
    {
      "cell_type": "code",
      "source": [
        "import seaborn as sns\n",
        "\n",
        "plt.figure(figsize=(10, 6))\n",
        "sns.scatterplot(\n",
        "    x=X_pca[:, 0],\n",
        "    y=X_pca[:, 1],\n",
        "    hue=labels,\n",
        "    palette='viridis',\n",
        "    legend='full'\n",
        ")\n",
        "plt.title('Spectral Clustering (PCA projection)')\n",
        "plt.show()"
      ],
      "metadata": {
        "colab": {
          "base_uri": "https://localhost:8080/",
          "height": 545
        },
        "id": "qQShqSROOuRv",
        "outputId": "bf50d8d7-c311-4329-ee43-86ad3da83816"
      },
      "execution_count": 61,
      "outputs": [
        {
          "output_type": "display_data",
          "data": {
            "text/plain": [
              "<Figure size 1000x600 with 1 Axes>"
            ],
            "image/png": "[encoded data removed]"
          },
          "metadata": {}
        }
      ]
    },
    {
      "cell_type": "code",
      "source": [
        "from sklearn.metrics import silhouette_score\n",
        "\n",
        "if len(set(labels)) > 1:\n",
        "    score = silhouette_score(X_scaled, labels)\n",
        "    print(f\"Silhouette Score: {score:.3f}\")\n",
        "else:\n",
        "    print(\"Все точки в одном кластере!\")\n",
        "\n",
        "# Анализ результатов\n",
        "df['cluster'] = labels\n",
        "for cluster in sorted(df['cluster'].unique()):\n",
        "    print(f\"\\n Кластер {cluster}:\")\n",
        "    print(df[df['cluster'] == cluster]['Class Index'].value_counts().head(5))"
      ],
      "metadata": {
        "colab": {
          "base_uri": "https://localhost:8080/"
        },
        "id": "v_ElP0wvO_Fr",
        "outputId": "f19fc05d-2529-448c-f12e-74d0d15e458d"
      },
      "execution_count": 62,
      "outputs": [
        {
          "output_type": "stream",
          "name": "stdout",
          "text": [
            "Silhouette Score: -0.034\n",
            "\n",
            " Кластер 0:\n",
            "Class Index\n",
            "0     9724\n",
            "15      25\n",
            "13      23\n",
            "18      20\n",
            "6       16\n",
            "Name: count, dtype: int64\n",
            "\n",
            " Кластер 1:\n",
            "Class Index\n",
            "1    19\n",
            "Name: count, dtype: int64\n",
            "\n",
            " Кластер 2:\n",
            "Class Index\n",
            "11    11\n",
            "Name: count, dtype: int64\n",
            "\n",
            " Кластер 3:\n",
            "Class Index\n",
            "12    45\n",
            "Name: count, dtype: int64\n"
          ]
        }
      ]
    },
    {
      "cell_type": "code",
      "source": [
        "x_train, x_test, y_train, y_test = train_test_split(\n",
        "    x, y, test_size=0.2, random_state=42\n",
        ")\n",
        "\n",
        "x_train, x_valid, y_train, y_valid = train_test_split(\n",
        "    x_train, y_train, test_size=0.2, random_state=42\n",
        ")"
      ],
      "metadata": {
        "id": "a1cJicbN5Kgq"
      },
      "execution_count": 63,
      "outputs": []
    }
  ]
}