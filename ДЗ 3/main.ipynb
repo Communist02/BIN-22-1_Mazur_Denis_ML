{
  "nbformat": 4,
  "nbformat_minor": 0,
  "metadata": {
    "colab": {
      "provenance": []
    },
    "kernelspec": {
      "name": "python3",
      "display_name": "Python 3"
    },
    "language_info": {
      "name": "python"
    }
  },
  "cells": [
    {
      "cell_type": "code",
      "source": [
        "!pip install numpy"
      ],
      "metadata": {
        "colab": {
          "base_uri": "https://localhost:8080/"
        },
        "id": "EZEKBLPAOg_r",
        "outputId": "bfbdbe40-0f33-47f2-a255-c317e81822ac"
      },
      "execution_count": 2,
      "outputs": [
        {
          "output_type": "stream",
          "name": "stdout",
          "text": [
            "Requirement already satisfied: numpy in /usr/local/lib/python3.11/dist-packages (2.0.2)\n"
          ]
        }
      ]
    },
    {
      "cell_type": "code",
      "execution_count": 5,
      "metadata": {
        "colab": {
          "base_uri": "https://localhost:8080/"
        },
        "id": "t16YEVt_OZrh",
        "outputId": "fba73aea-92a4-4594-cfb5-3a0bfa83aa8b"
      },
      "outputs": [
        {
          "output_type": "stream",
          "name": "stdout",
          "text": [
            "Epoch 0, Loss: 0.3128058644161217\n",
            "Epoch 1000, Loss: 0.00022367690812844356\n",
            "Epoch 2000, Loss: 0.0001043142923260404\n",
            "Epoch 3000, Loss: 6.731174708933139e-05\n",
            "Epoch 4000, Loss: 4.9462646919810434e-05\n",
            "Epoch 5000, Loss: 3.899781843637247e-05\n",
            "Epoch 6000, Loss: 3.2136961718006045e-05\n",
            "Epoch 7000, Loss: 2.7299375130769957e-05\n",
            "Epoch 8000, Loss: 2.3708976527012577e-05\n",
            "Epoch 9000, Loss: 2.094073889935574e-05\n",
            "Predictions:\n",
            "[[0.99537341]\n",
            " [0.00389167]\n",
            " [0.99543993]\n",
            " [0.00308457]\n",
            " [0.99423036]\n",
            " [0.00389167]\n",
            " [0.99498668]\n",
            " [0.00308457]]\n",
            "Epoch 0, Loss: 0.7552745767084347\n",
            "Epoch 1000, Loss: 0.00016666666666666666\n",
            "Epoch 2000, Loss: 0.00016666666666666666\n",
            "Epoch 3000, Loss: 0.00016666666666666666\n",
            "Epoch 4000, Loss: 0.00016666666666666666\n",
            "Epoch 5000, Loss: 0.00016666666666666666\n",
            "Epoch 6000, Loss: 0.00016666666666666666\n",
            "Epoch 7000, Loss: 0.00016666666666666666\n",
            "Epoch 8000, Loss: 0.00016666666666666666\n",
            "Epoch 9000, Loss: 0.00016666666666666666\n",
            "Predictions:\n",
            "[[6.33890922e-242]\n",
            " [6.33890922e-242]\n",
            " [6.33890922e-242]\n",
            " ...\n",
            " [6.33890922e-242]\n",
            " [6.33890922e-242]\n",
            " [6.33890922e-242]]\n"
          ]
        }
      ],
      "source": [
        "from email import header\n",
        "import numpy as np\n",
        "\n",
        "\n",
        "class NeuralNetwork:\n",
        "    def __init__(self, input_size: int, hidden_size: int, output_size: int):\n",
        "        \"\"\"\n",
        "        Инициализация нейронной сети.\n",
        "\n",
        "        :param input_size: количество входных нейронов\n",
        "        :param hidden_size: количество нейронов в скрытом слое\n",
        "        :param output_size: количество выходных нейронов\n",
        "        \"\"\"\n",
        "        self.weights_input_hidden = np.random.randn(input_size, hidden_size)\n",
        "        self.weights_hidden_output = np.random.randn(hidden_size, output_size)\n",
        "        self.bias_hidden = np.zeros((1, hidden_size))\n",
        "        self.bias_output = np.zeros((1, output_size))\n",
        "\n",
        "    def sigmoid(self, x):\n",
        "        return 1 / (1 + np.exp(-x))\n",
        "\n",
        "    def sigmoid_derivative(self, x):\n",
        "        return x * (1 - x)\n",
        "\n",
        "    def forward(self, X: np.ndarray) -> np.ndarray:\n",
        "        self.hidden_output = self.sigmoid(np.dot(X, self.weights_input_hidden) + self.bias_hidden)\n",
        "        return self.sigmoid(np.dot(self.hidden_output, self.weights_hidden_output) + self.bias_output)\n",
        "\n",
        "    def backward(self, X: np.ndarray, y: np.ndarray, output):\n",
        "        output_delta = (y - output) * self.sigmoid_derivative(output)\n",
        "        hidden_delta = output_delta.dot(self.weights_hidden_output.T) * self.sigmoid_derivative(self.hidden_output)\n",
        "        self.weights_hidden_output += self.hidden_output.T.dot(output_delta)\n",
        "        self.bias_output += np.sum(output_delta, axis=0, keepdims=True)\n",
        "        self.weights_input_hidden += X.T.dot(hidden_delta)\n",
        "        self.bias_hidden += np.sum(hidden_delta, axis=0, keepdims=True)\n",
        "\n",
        "    def train(self, X: np.ndarray, y: np.ndarray, epochs: int = 10000):\n",
        "        for epoch in range(epochs):\n",
        "            output = self.forward(X)\n",
        "            self.backward(X, y, output)\n",
        "            if epoch % 1000 == 0:\n",
        "                print(f\"Epoch {epoch}, Loss: {np.mean(np.square(y - output))}\")\n",
        "\n",
        "    def predict(self, X: np.ndarray) -> np.ndarray:\n",
        "        return self.forward(X)\n",
        "\n",
        "\n",
        "if __name__ == \"__main__\":\n",
        "    data = np.genfromtxt('diamond.csv', delimiter=',', skip_header=1)\n",
        "    X = np.array([\n",
        "        [0, 0, 1],\n",
        "        [0, 0, 0],\n",
        "        [1, 0, 1],\n",
        "        [1, 1, 0],\n",
        "        [0, 1, 1],\n",
        "        [0, 0, 0],\n",
        "        [1, 1, 1],\n",
        "        [1, 1, 0]\n",
        "    ])\n",
        "    y = np.array([[1], [0], [1], [0], [1], [0], [1], [0]])\n",
        "\n",
        "    nn = NeuralNetwork(input_size=3, hidden_size=4, output_size=1)\n",
        "    nn.train(X, y, epochs=10000)\n",
        "    print(\"Predictions:\")\n",
        "    print(nn.predict(X))\n",
        "\n",
        "    norm1 = data[:, 0] / np.linalg.norm(data[:, 0])\n",
        "    norm2 = data[:, 1] / np.linalg.norm(data[:, 1])\n",
        "    norm3 = data[:, 2] / np.linalg.norm(data[:, 2])\n",
        "\n",
        "    X = np.stack([norm1, norm2], axis=1)\n",
        "    y = norm3.reshape(-1, 1)\n",
        "    nn = NeuralNetwork(input_size=2, hidden_size=4, output_size=1)\n",
        "    nn.train(X, y, epochs=10000)\n",
        "    print(\"Predictions:\")\n",
        "    print(nn.predict(X))"
      ]
    }
  ]
}